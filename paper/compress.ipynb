{
 "cells": [
  {
   "cell_type": "markdown",
   "id": "52dc12b9-a7e7-476c-9114-d46d55c0463e",
   "metadata": {},
   "source": [
    "## compress the NetCDF data from float64 to float32\n",
    "**30 November 2024 by MiniUFO**\n",
    "\n",
    "---\n",
    "[TOC]\n",
    "\n",
    "---\n",
    "### 1. Introduction\n",
    "The NetCDF data of GLAD and LASER are too large to be host on github.  So we need comression here."
   ]
  },
  {
   "cell_type": "code",
   "execution_count": 6,
   "id": "4070feb7-da73-4ca8-a97c-7691481fc990",
   "metadata": {},
   "outputs": [
    {
     "name": "stdout",
     "output_type": "stream",
     "text": [
      "<xarray.Dataset>\n",
      "Dimensions:    (traj: 297, obs: 1602882)\n",
      "Coordinates:\n",
      "    ids        (obs) int64 ...\n",
      "    time       (obs) datetime64[ns] ...\n",
      "Dimensions without coordinates: traj, obs\n",
      "Data variables:\n",
      "    ID         (traj) int32 ...\n",
      "    rowsize    (traj) int32 ...\n",
      "    ve         (obs) float32 ...\n",
      "    vn         (obs) float32 ...\n",
      "    longitude  (obs) float32 ...\n",
      "    latitude   (obs) float32 ...\n",
      "Attributes:\n",
      "    long_name:  Buoy ID\n",
      "    units:      -\n",
      "    title:      glad experiment\n",
      "\n",
      "\n",
      "<xarray.Dataset>\n",
      "Dimensions:    (traj: 297, obs: 1602882)\n",
      "Coordinates:\n",
      "    ids        (obs) int64 1 1 1 1 1 1 1 1 1 ... 451 451 451 451 451 451 451 451\n",
      "    time       (obs) datetime64[ns] 2012-07-20T01:30:00 ... 2012-08-27T05:45:00\n",
      "Dimensions without coordinates: traj, obs\n",
      "Data variables:\n",
      "    ID         (traj) int32 1 2 3 4 5 6 7 8 ... 307 308 310 313 314 315 317 451\n",
      "    rowsize    (traj) int32 7695 1385 2965 3729 5641 ... 1749 1535 3077 2631\n",
      "    ve         (obs) float32 0.022 0.021 0.021 0.022 ... 0.525 0.501 0.465 0.425\n",
      "    vn         (obs) float32 -0.23 -0.213 -0.197 -0.184 ... -0.268 -0.248 -0.226\n",
      "    longitude  (obs) float32 -87.21 -87.21 -87.21 ... -87.09 -87.09 -87.08\n",
      "    latitude   (obs) float32 28.56 28.56 28.56 28.56 ... 26.34 26.33 26.33 26.33\n",
      "Attributes:\n",
      "    long_name:  Buoy ID\n",
      "    units:      -\n",
      "    title:      glad experiment\n"
     ]
    }
   ],
   "source": [
    "import xarray as xr\n",
    "import numpy as np\n",
    "\n",
    "dname = 'glad'; suffix = ''\n",
    "#dname = 'laser'; suffix = '_drogued_remove_first'\n",
    "\n",
    "dset = xr.open_dataset(f'../data/{dname}64{suffix}.nc')\n",
    "print(dset)\n",
    "print('\\n')\n",
    "dset2 = xr.merge([dset.ID.astype(np.int32), dset.rowsize.astype(np.int32),\n",
    "          dset.ve.astype(np.float32),\n",
    "          dset.vn.astype(np.float32),\n",
    "          dset.longitude.astype(np.float32),\n",
    "          dset.latitude.astype(np.float32)])\n",
    "dset2.attrs['title'] = f'{dname} experiment'\n",
    "print(dset2)\n",
    "dset2.to_netcdf(f'../data/{dname}32{suffix}.nc', engine='netcdf4',\n",
    "                                                 encoding={\"ve\": {\"dtype\": \"float32\", \"zlib\": True},\n",
    "                                                           \"vn\": {\"dtype\": \"float32\", \"zlib\": True},\n",
    "                                                           \"longitude\": {\"dtype\": \"float32\", \"zlib\": True},\n",
    "                                                           \"latitude\" : {\"dtype\": \"float32\", \"zlib\": True}})"
   ]
  },
  {
   "cell_type": "code",
   "execution_count": null,
   "id": "56684823-02b8-4048-b9c2-bc9c71905830",
   "metadata": {},
   "outputs": [],
   "source": []
  }
 ],
 "metadata": {
  "kernelspec": {
   "display_name": "Python 3 (ipykernel)",
   "language": "python",
   "name": "python3"
  },
  "language_info": {
   "codemirror_mode": {
    "name": "ipython",
    "version": 3
   },
   "file_extension": ".py",
   "mimetype": "text/x-python",
   "name": "python",
   "nbconvert_exporter": "python",
   "pygments_lexer": "ipython3",
   "version": "3.10.15"
  }
 },
 "nbformat": 4,
 "nbformat_minor": 5
}
