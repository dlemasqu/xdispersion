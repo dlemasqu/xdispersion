{
 "cells": [
  {
   "cell_type": "markdown",
   "id": "52dc12b9-a7e7-476c-9114-d46d55c0463e",
   "metadata": {},
   "source": [
    "## compress the NetCDF data from float64 to float32\n",
    "**30 November 2024 by MiniUFO**\n",
    "\n",
    "---\n",
    "[TOC]\n",
    "\n",
    "---\n",
    "### 1. Introduction\n",
    "The NetCDF data of GLAD and LASER are too large to be host on github.  So we need comression here."
   ]
  },
  {
   "cell_type": "code",
   "execution_count": 25,
   "id": "4070feb7-da73-4ca8-a97c-7691481fc990",
   "metadata": {},
   "outputs": [
    {
     "name": "stdout",
     "output_type": "stream",
     "text": [
      "<xarray.Dataset>\n",
      "Dimensions:    (traj: 956, obs: 2276587)\n",
      "Coordinates:\n",
      "    ids        (obs) int64 ...\n",
      "    time       (obs) datetime64[ns] ...\n",
      "Dimensions without coordinates: traj, obs\n",
      "Data variables:\n",
      "    ID         (traj) int64 ...\n",
      "    rowsize    (traj) int64 ...\n",
      "    ve         (obs) float64 ...\n",
      "    vn         (obs) float64 ...\n",
      "    longitude  (obs) float64 ...\n",
      "    latitude   (obs) float64 ...\n",
      "Attributes:\n",
      "    title:    LASER experiment\n",
      "\n",
      "\n",
      "<xarray.Dataset>\n",
      "Dimensions:    (traj: 956, obs: 2276587)\n",
      "Coordinates:\n",
      "    ids        (obs) int64 4 4 4 4 4 4 4 ... 1099 1099 1099 1099 1099 1099 1099\n",
      "    time       (obs) datetime64[ns] 2016-01-21T19:15:00 ... 2016-02-14T19:00:00\n",
      "Dimensions without coordinates: traj, obs\n",
      "Data variables:\n",
      "    ID         (traj) int32 4 5 6 7 8 9 10 ... 1094 1095 1096 1097 1098 1099\n",
      "    rowsize    (traj) int32 3568 200 5461 4150 3396 ... 293 7191 580 718 710\n",
      "    ve         (obs) float32 0.044 0.043 0.039 0.038 ... -0.25 -0.239 -0.226\n",
      "    vn         (obs) float32 0.367 0.357 0.349 0.343 ... -0.254 -0.236 -0.221\n",
      "    longitude  (obs) float32 -87.69 -87.69 -87.69 ... -88.08 -88.08 -88.08\n",
      "    latitude   (obs) float32 29.04 29.05 29.05 29.05 ... 28.29 28.29 28.29 28.29\n",
      "Attributes:\n",
      "    long_name:  Buoy ID\n",
      "    units:      -\n",
      "    title:      laser experiment\n"
     ]
    }
   ],
   "source": [
    "import xarray as xr\n",
    "import numpy as np\n",
    "import sys\n",
    "sys.path.append('../')\n",
    "\n",
    "#dname = 'glad'; suffix = ''\n",
    "dname = 'laser'; suffix = '_drogued_remove_first'\n",
    "\n",
    "dset = xr.open_dataset(f'/Data/{dname.upper()}/{dname}64{suffix}.nc')\n",
    "print(dset)\n",
    "print('\\n')\n",
    "dset2 = xr.merge([dset.ID.astype(np.int32), dset.rowsize.astype(np.int32),\n",
    "          dset.ve.astype(np.float32),\n",
    "          dset.vn.astype(np.float32),\n",
    "          dset.longitude.astype(np.float32),\n",
    "          dset.latitude.astype(np.float32)])\n",
    "dset2.attrs['title'] = f'{dname} experiment'\n",
    "print(dset2)\n",
    "dset2.to_netcdf(f'../data/{dname}32{suffix}.nc', engine='netcdf4',\n",
    "                                                 encoding={\"ve\": {\"dtype\": \"float32\", \"zlib\": True},\n",
    "                                                           \"vn\": {\"dtype\": \"float32\", \"zlib\": True},\n",
    "                                                           \"longitude\": {\"dtype\": \"float32\", \"zlib\": True},\n",
    "                                                           \"latitude\" : {\"dtype\": \"float32\", \"zlib\": True}})"
   ]
  },
  {
   "cell_type": "code",
   "execution_count": null,
   "id": "56684823-02b8-4048-b9c2-bc9c71905830",
   "metadata": {},
   "outputs": [],
   "source": []
  }
 ],
 "metadata": {
  "kernelspec": {
   "display_name": "Python 3 (ipykernel)",
   "language": "python",
   "name": "python3"
  },
  "language_info": {
   "codemirror_mode": {
    "name": "ipython",
    "version": 3
   },
   "file_extension": ".py",
   "mimetype": "text/x-python",
   "name": "python",
   "nbconvert_exporter": "python",
   "pygments_lexer": "ipython3",
   "version": "3.10.15"
  }
 },
 "nbformat": 4,
 "nbformat_minor": 5
}
