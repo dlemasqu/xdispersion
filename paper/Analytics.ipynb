{
 "cells": [
  {
   "cell_type": "markdown",
   "metadata": {},
   "source": [
    "## Analytical solutions in relative disperison\n",
    "**21 October 2023 by MiniUFO**\n",
    "\n",
    "---\n",
    "[TOC]\n",
    "\n",
    "---\n",
    "### 1. Introduction\n",
    "The relative dispersion (RD) metrics could be reliable if their analytical solutions are provided.  It is known that the probability density function (PDF) $p(r, t)$ of RD follows the Fokker-Planck equation:\n",
    "\n",
    ">$$\n",
    "p(r, t) = \\frac{1}{r}\\frac{\\partial}{\\partial r}\\left( \\kappa_2 r \\frac{\\partial p}{\\partial r}\\right) \\tag{1}\n",
    "$$\n",
    "\n",
    "Given the delta-function initial condition of $p(r,0)$, one can obtain the analytical solutions for later $p(r,t)$.  Once we have $p$, we can get the moments of $r$ as:\n",
    "\n",
    ">$$\n",
    "< r^n > = 2\\pi \\int_0^{\\infty} p r^{n+1} dr \\tag{2}\n",
    "$$\n",
    "\n",
    "So in theory, one could also get the analytical expressions of $<r^2>$, $<r^4>$, $Ku=<r^4>/<r^2>^2$ etc.  Here we use `sympy` to get the analytical expressions for various forms of $p$ in different dispersion regimes.\n",
    "\n",
    "---\n",
    "\n",
    "### 2. Calculations\n",
    "#### 2.1 defining symbols"
   ]
  },
  {
   "cell_type": "code",
   "execution_count": 1,
   "metadata": {},
   "outputs": [],
   "source": [
    "from sympy import Symbol, exp, integrate, pi, oo, simplify, init_printing, ln, gamma, log, diff\n",
    "from IPython.display import display\n",
    "\n",
    "init_printing(use_unicode=False, wrap_line=False, use_latex='mathjax')\n",
    "\n",
    "r    = Symbol('r'     , real=True, positive=True)\n",
    "t    = Symbol('t'     , real=True, positive=True)\n",
    "beta = Symbol('beta'  , real=True, positive=True)\n",
    "r0   = Symbol('r0'    , real=True, positive=True)\n",
    "k2   = Symbol('k2'    , real=True, positive=True)\n",
    "kappa= Symbol('kappa' , real=True, positive=True)\n",
    "n    = Symbol('n'     , real=True, positive=True)\n",
    "T    = Symbol('T'     , real=True, positive=True)\n",
    "lmbd = Symbol('lambda', real=True, positive=True)\n",
    "x    = Symbol('x'     , real=True)"
   ]
  },
  {
   "cell_type": "markdown",
   "metadata": {},
   "source": [
    "#### 2.2 Asymptotic diffusive regime"
   ]
  },
  {
   "cell_type": "code",
   "execution_count": 4,
   "metadata": {},
   "outputs": [
    {
     "data": {
      "text/latex": [
       "$\\displaystyle 1.0$"
      ],
      "text/plain": [
       "1.00000000000000"
      ]
     },
     "metadata": {},
     "output_type": "display_data"
    },
    {
     "data": {
      "text/latex": [
       "$\\displaystyle 4.0 k_{2} t$"
      ],
      "text/plain": [
       "4.0*k2*t"
      ]
     },
     "metadata": {},
     "output_type": "display_data"
    },
    {
     "data": {
      "text/latex": [
       "$\\displaystyle 32.0 k_{2}^{2} t^{2}$"
      ],
      "text/plain": [
       "       2  2\n",
       "32.0*k2 *t "
      ]
     },
     "metadata": {},
     "output_type": "display_data"
    },
    {
     "data": {
      "text/latex": [
       "$\\displaystyle 1.0 \\cdot 2^{n} k_{2}^{\\frac{n}{2}} t^{\\frac{n}{2}} \\Gamma\\left(\\frac{n}{2} + 1\\right)$"
      ],
      "text/plain": [
       "         n  n             \n",
       "         -  -             \n",
       "     n   2  2      /n    \\\n",
       "1.0*2 *k2 *t *Gamma|- + 1|\n",
       "                   \\2    /"
      ]
     },
     "metadata": {},
     "output_type": "display_data"
    },
    {
     "data": {
      "text/latex": [
       "$\\displaystyle 2.0$"
      ],
      "text/plain": [
       "2.00000000000000"
      ]
     },
     "metadata": {},
     "output_type": "display_data"
    },
    {
     "data": {
      "text/latex": [
       "$\\displaystyle 2.0 k_{2}$"
      ],
      "text/plain": [
       "2.0*k2"
      ]
     },
     "metadata": {},
     "output_type": "display_data"
    }
   ],
   "source": [
    "p = 1.0 / (4*pi*k2*t) * exp(- (r**2)/(4*k2*t)) # asymptotic PDF\n",
    "\n",
    "ra = 2 * pi * integrate(p * r       , (r, 0, oo))\n",
    "r2 = 2 * pi * integrate(p * r**3    , (r, 0, oo))\n",
    "r4 = 2 * pi * integrate(p * r**5    , (r, 0, oo))\n",
    "rn = 2 * pi * integrate(p * r**(n+1), (r, 0, oo))\n",
    "Ku = r4 / r2**2.0\n",
    "K2 = diff(r2, t) / 2\n",
    "\n",
    "display(ra, r2, r4, simplify(rn), Ku, K2)"
   ]
  },
  {
   "cell_type": "markdown",
   "metadata": {},
   "source": [
    "#### 2.3 Full diffusive regime"
   ]
  },
  {
   "cell_type": "code",
   "execution_count": 5,
   "metadata": {},
   "outputs": [
    {
     "data": {
      "text/latex": [
       "$\\displaystyle 1.0$"
      ],
      "text/plain": [
       "1.00000000000000"
      ]
     },
     "metadata": {},
     "output_type": "display_data"
    },
    {
     "data": {
      "text/latex": [
       "$\\displaystyle 4.0 k_{2} t + 1.0 r_{0}^{2}$"
      ],
      "text/plain": [
       "                 2\n",
       "4.0*k2*t + 1.0*r0 "
      ]
     },
     "metadata": {},
     "output_type": "display_data"
    },
    {
     "data": {
      "text/latex": [
       "$\\displaystyle 32.0 k_{2}^{2} t^{2} + 16.0 k_{2} r_{0}^{2} t + 1.0 r_{0}^{4}$"
      ],
      "text/plain": [
       "       2  2             2           4\n",
       "32.0*k2 *t  + 16.0*k2*r0 *t + 1.0*r0 "
      ]
     },
     "metadata": {},
     "output_type": "display_data"
    },
    {
     "data": {
      "text/latex": [
       "$\\displaystyle 1.0 \\cdot 2^{n} k_{2}^{\\frac{n}{2}} t^{\\frac{n}{2}} e^{- \\frac{r_{0}^{2}}{4 k_{2} t}} \\Gamma\\left(\\frac{n}{2} + 1\\right) {{}_{1}F_{1}\\left(\\begin{matrix} \\frac{n}{2} + 1 \\\\ 1 \\end{matrix}\\middle| {\\frac{r_{0}^{2}}{4 k_{2} t}} \\right)}$"
      ],
      "text/plain": [
       "                  2                                     \n",
       "         n  n  -r0                                      \n",
       "         -  -  ------                _  /n     |    2  \\\n",
       "     n   2  2  4*k2*t      /n    \\  |_  |- + 1 |  r0   |\n",
       "1.0*2 *k2 *t *e      *Gamma|- + 1|* |   |2     | ------|\n",
       "                           \\2    / 1  1 |      | 4*k2*t|\n",
       "                                        \\  1   |       /"
      ]
     },
     "metadata": {},
     "output_type": "display_data"
    },
    {
     "data": {
      "text/latex": [
       "$\\displaystyle \\frac{32.0 k_{2}^{2} t^{2} + 16.0 k_{2} r_{0}^{2} t + 1.0 r_{0}^{4}}{\\left(4 k_{2} t + r_{0}^{2}\\right)^{2.0}}$"
      ],
      "text/plain": [
       "              -2.0                                        \n",
       "/           2\\     /       2  2             2           4\\\n",
       "\\4*k2*t + r0 /    *\\32.0*k2 *t  + 16.0*k2*r0 *t + 1.0*r0 /"
      ]
     },
     "metadata": {},
     "output_type": "display_data"
    },
    {
     "data": {
      "text/latex": [
       "$\\displaystyle 2.0 k_{2}$"
      ],
      "text/plain": [
       "2.0*k2"
      ]
     },
     "metadata": {},
     "output_type": "display_data"
    }
   ],
   "source": [
    "from sympy import besseli, besselj, bessely, besselk\n",
    "\n",
    "# full PDF\n",
    "p = 1.0 / (4*pi*k2*t) * exp(-(r0**2 + r**2)/(4*k2*t)) * besseli(0, (r0*r)/(2*k2*t))\n",
    "\n",
    "ra = 2 * pi * integrate(p * r       , (r, 0, oo))\n",
    "r2 = 2 * pi * integrate(p * r**3    , (r, 0, oo))\n",
    "r4 = 2 * pi * integrate(p * r**5    , (r, 0, oo))\n",
    "rn = 2 * pi * integrate(p * r**(n+1), (r, 0, oo))\n",
    "Ku = r4 / r2**2.0\n",
    "K2 = diff(r2, t) / 2\n",
    "\n",
    "display(ra, simplify(r2), simplify(r4), simplify(rn), simplify(Ku), simplify(K2))"
   ]
  },
  {
   "cell_type": "markdown",
   "metadata": {},
   "source": [
    "#### 2.4 Asymptotic GM regime"
   ]
  },
  {
   "cell_type": "code",
   "execution_count": 6,
   "metadata": {},
   "outputs": [
    {
     "data": {
      "text/latex": [
       "$\\displaystyle 1.0$"
      ],
      "text/plain": [
       "1.00000000000000"
      ]
     },
     "metadata": {},
     "output_type": "display_data"
    },
    {
     "data": {
      "text/latex": [
       "$\\displaystyle 3.28125 \\lambda^{4.0} t^{4.0}$"
      ],
      "text/plain": [
       "              4.0  4.0\n",
       "3.28125*lambda   *t   "
      ]
     },
     "metadata": {},
     "output_type": "display_data"
    },
    {
     "data": {
      "text/latex": [
       "$\\displaystyle 101.513671875 \\lambda^{8.0} t^{8.0}$"
      ],
      "text/plain": [
       "                    8.0  8.0\n",
       "101.513671875*lambda   *t   "
      ]
     },
     "metadata": {},
     "output_type": "display_data"
    },
    {
     "data": {
      "text/latex": [
       "$\\displaystyle 0.166666666666667 \\left(0.25 \\lambda t\\right)^{2.0 n} \\Gamma\\left(2.0 n + 4.0\\right)$"
      ],
      "text/plain": [
       "                                 2.0*n                   \n",
       "0.166666666666667*(0.25*lambda*t)     *Gamma(2.0*n + 4.0)"
      ]
     },
     "metadata": {},
     "output_type": "display_data"
    },
    {
     "data": {
      "text/latex": [
       "$\\displaystyle 9.42857142857143$"
      ],
      "text/plain": [
       "9.42857142857143"
      ]
     },
     "metadata": {},
     "output_type": "display_data"
    },
    {
     "data": {
      "text/latex": [
       "$\\displaystyle 2.69178163547765 \\lambda r^{1.5}$"
      ],
      "text/plain": [
       "                         1.5\n",
       "2.69178163547765*lambda*r   "
      ]
     },
     "metadata": {},
     "output_type": "display_data"
    },
    {
     "data": {
      "text/latex": [
       "$\\displaystyle 6.5625 \\lambda^{4.0} t^{3.0}$"
      ],
      "text/plain": [
       "             4.0  3.0\n",
       "6.5625*lambda   *t   "
      ]
     },
     "metadata": {},
     "output_type": "display_data"
    }
   ],
   "source": [
    "from sympy import besseli, besselj, bessely, besselk\n",
    "\n",
    "# asymptotic K^-2 regime\n",
    "fst = 2.0**5 / (3.0 * pi * (lmbd * t)**4.0)\n",
    "scd = exp(-4.0*r**(1.0/2.0)/(lmbd * t))\n",
    "\n",
    "p = fst * scd\n",
    "\n",
    "ra = 2 * pi * integrate(p * r       , (r, 0, oo))\n",
    "r2 = 2 * pi * integrate(p * r**3    , (r, 0, oo))\n",
    "r4 = 2 * pi * integrate(p * r**5    , (r, 0, oo))\n",
    "rn = 2 * pi * integrate(p * r**(n+1), (r, 0, oo))\n",
    "Ku = r4 / r2**2.0\n",
    "K2 = diff(r2, t) / 2\n",
    "\n",
    "a = 3.28125\n",
    "b = 4\n",
    "K = 1/2 * a**(1/b) * b * lmbd * r**((2*b-2)/b)\n",
    "\n",
    "display(ra, r2, r4, simplify(rn), Ku, K, K2)"
   ]
  },
  {
   "cell_type": "markdown",
   "metadata": {},
   "source": [
    "#### 2.5 Full GM regime"
   ]
  },
  {
   "cell_type": "code",
   "execution_count": null,
   "metadata": {},
   "outputs": [],
   "source": [
    "from sympy import besseli\n",
    "\n",
    "# full K^-2 PDF (no analytical solution from sympy)\n",
    "fst = 1.0 / (pi * lmbd * t * (r0 * r)**(3.0/4.0))\n",
    "scd = exp(-4.0*(r0**(1.0/2.0) + r**(1.0/2.0))/(lmbd * t))\n",
    "tmp = 8.0 * ((r0 * r)**(1.0/4.0)) / (lmbd * t)\n",
    "trd = besseli(3, tmp)# * exp(-tmp)\n",
    "\n",
    "p = fst * scd * trd\n",
    "\n",
    "print('ok1')\n",
    "ra = 2 * pi * integrate(p * r   , (r, 0, oo))\n",
    "print('ok2')\n",
    "r2 = 2 * pi * integrate(p * r**3, (r, 0, oo))\n",
    "print('ok3')\n",
    "r4 = 2 * pi * integrate(p * r**5, (r, 0, oo))\n",
    "print('ok4')\n",
    "Ku = r4 / r2**2.0\n",
    "K2 = diff(r2, t) / 2\n",
    "\n",
    "display(ra, r2, r4, rn, Ku, K2)"
   ]
  },
  {
   "cell_type": "markdown",
   "metadata": {},
   "source": [
    "#### 2.6 Generalized asymptotic regime"
   ]
  },
  {
   "cell_type": "code",
   "execution_count": 7,
   "metadata": {},
   "outputs": [
    {
     "data": {
      "text/latex": [
       "$\\displaystyle 1.0$"
      ],
      "text/plain": [
       "1.00000000000000"
      ]
     },
     "metadata": {},
     "output_type": "display_data"
    },
    {
     "data": {
      "text/latex": [
       "$\\displaystyle 3.28125 \\lambda^{4.0} t^{4.0}$"
      ],
      "text/plain": [
       "              4.0  4.0\n",
       "3.28125*lambda   *t   "
      ]
     },
     "metadata": {},
     "output_type": "display_data"
    },
    {
     "data": {
      "text/latex": [
       "$\\displaystyle 101.513671875 \\lambda^{8.0} t^{8.0}$"
      ],
      "text/plain": [
       "                    8.0  8.0\n",
       "101.513671875*lambda   *t   "
      ]
     },
     "metadata": {},
     "output_type": "display_data"
    },
    {
     "data": {
      "text/latex": [
       "$\\displaystyle 0.166666666666667 \\left(0.25 \\lambda t\\right)^{2.0 n} \\Gamma\\left(2.0 n + 4.0\\right)$"
      ],
      "text/plain": [
       "                                 2.0*n                   \n",
       "0.166666666666667*(0.25*lambda*t)     *Gamma(2.0*n + 4.0)"
      ]
     },
     "metadata": {},
     "output_type": "display_data"
    },
    {
     "data": {
      "text/latex": [
       "$\\displaystyle 9.42857142857143$"
      ],
      "text/plain": [
       "9.42857142857143"
      ]
     },
     "metadata": {},
     "output_type": "display_data"
    },
    {
     "data": {
      "text/latex": [
       "$\\displaystyle 6.5625 \\lambda^{4.0} t^{3.0}$"
      ],
      "text/plain": [
       "             4.0  3.0\n",
       "6.5625*lambda   *t   "
      ]
     },
     "metadata": {},
     "output_type": "display_data"
    }
   ],
   "source": [
    "a = 2\n",
    "b = 3 - a\n",
    "\n",
    "# a for the expression in Foussard et al. 2017 paper\n",
    "#fst = (2-a) / (2 * pi * gamma(2 / (2-a)) * ((2-a)**2 * lmbd * t)**(2/(2-a)) )\n",
    "#scd = exp( -(a-2)**-2 * r**(2-a) / (lmbd * t) )\n",
    "\n",
    "# a for the spectral slope\n",
    "fst = b / (4 * pi * gamma(4 / b) * (b**2/4 * lmbd * t)**(4/b) )\n",
    "scd = exp( -4/b**2 * r**(b/2) / (lmbd * t) )\n",
    "p = fst * scd\n",
    "\n",
    "ra = 2 * pi * integrate(p * r       , (r, 0, oo))\n",
    "r2 = 2 * pi * integrate(p * r**3    , (r, 0, oo))\n",
    "r4 = 2 * pi * integrate(p * r**5    , (r, 0, oo))\n",
    "rn = 2 * pi * integrate(p * r**(n+1), (r, 0, oo))\n",
    "Ku = r4 / r2**2.0\n",
    "K2 = diff(r2, t) / 2\n",
    "\n",
    "display(ra, r2, r4, simplify(rn), Ku, K2)"
   ]
  },
  {
   "cell_type": "markdown",
   "metadata": {},
   "source": [
    "#### 2.7 Generalized full regime"
   ]
  },
  {
   "cell_type": "code",
   "execution_count": null,
   "metadata": {},
   "outputs": [],
   "source": [
    "# generalized full PDF (no analytical solution from sympy)\n",
    "a = 1\n",
    "fst = 1 / (4 * pi * kappa * t * r**(a/2) * r0**(a/2))\n",
    "snd = exp(- (1/(a-2)**2) * (r**(2-a)+r0**(2-a))/(kappa * t))\n",
    "trd = besseli(a/(2-a), 2/(a-2)**2 * (r*r0)**(1-a/2) / (kappa * t))\n",
    "\n",
    "p = fst * snd * trd\n",
    "display(p)\n",
    "\n",
    "ra = 2 * pi * integrate(p * r   , (r, 0, oo))\n",
    "print('ok1')\n",
    "r2 = 2 * pi * integrate(p * r**3, (r, 0, oo))\n",
    "print('ok2')\n",
    "r4 = 2 * pi * integrate(p * r**5, (r, 0, oo))\n",
    "print('ok3')\n",
    "Ku = r4 / r2**2.0\n",
    "K2 = diff(r2, t) / 2\n",
    "\n",
    "display(ra, r2, r4, Ku, K2)"
   ]
  },
  {
   "cell_type": "markdown",
   "metadata": {},
   "source": [
    "#### 2.8 Asymptotic Richardson regime"
   ]
  },
  {
   "cell_type": "code",
   "execution_count": 8,
   "metadata": {},
   "outputs": [
    {
     "data": {
      "text/latex": [
       "$\\displaystyle 1.0$"
      ],
      "text/plain": [
       "1.00000000000000"
      ]
     },
     "metadata": {},
     "output_type": "display_data"
    },
    {
     "data": {
      "text/latex": [
       "$\\displaystyle 5.26748971193416 \\beta^{3.0} t^{3.0}$"
      ],
      "text/plain": [
       "                     3.0  3.0\n",
       "5.26748971193416*beta   *t   "
      ]
     },
     "metadata": {},
     "output_type": "display_data"
    },
    {
     "data": {
      "text/latex": [
       "$\\displaystyle 155.38010804586 \\beta^{6.0} t^{6.0}$"
      ],
      "text/plain": [
       "                    6.0  6.0\n",
       "155.38010804586*beta   *t   "
      ]
     },
     "metadata": {},
     "output_type": "display_data"
    },
    {
     "data": {
      "text/latex": [
       "$\\displaystyle 0.5 \\left(0.444444444444444 \\beta t\\right)^{1.5 n} \\Gamma\\left(1.5 n + 3.0\\right)$"
      ],
      "text/plain": [
       "                              1.5*n                   \n",
       "0.5*(0.444444444444444*beta*t)     *Gamma(1.5*n + 3.0)"
      ]
     },
     "metadata": {},
     "output_type": "display_data"
    },
    {
     "data": {
      "text/latex": [
       "$\\displaystyle 5.6$"
      ],
      "text/plain": [
       "5.60000000000000"
      ]
     },
     "metadata": {},
     "output_type": "display_data"
    },
    {
     "data": {
      "text/latex": [
       "$\\displaystyle 2.60991164319727 \\beta r^{1.33333333333333}$"
      ],
      "text/plain": [
       "                       1.33333333333333\n",
       "2.60991164319727*beta*r                "
      ]
     },
     "metadata": {},
     "output_type": "display_data"
    },
    {
     "data": {
      "text/latex": [
       "$\\displaystyle 7.90123456790123 \\beta^{3.0} t^{2.0}$"
      ],
      "text/plain": [
       "                     3.0  2.0\n",
       "7.90123456790123*beta   *t   "
      ]
     },
     "metadata": {},
     "output_type": "display_data"
    }
   ],
   "source": [
    "from sympy import besseli, besselj, bessely, besselk\n",
    "\n",
    "# asymptotic K^-5/3 PDF\n",
    "fst = 1.5**5 / (4.0 * pi * (beta * t)**3.0)\n",
    "scd = exp(-9.0*r**(2.0/3.0)/(4.0 * beta * t))\n",
    "\n",
    "p = fst * scd\n",
    "\n",
    "ra = 2 * pi * integrate(p * r       , (r, 0, oo))\n",
    "r2 = 2 * pi * integrate(p * r**3    , (r, 0, oo))\n",
    "r4 = 2 * pi * integrate(p * r**5    , (r, 0, oo))\n",
    "rn = 2 * pi * integrate(p * r**(n+1), (r, 0, oo))\n",
    "Ku = r4 / r2**2.0\n",
    "K2 = diff(r2, t) / 2\n",
    "\n",
    "a = 5.267489\n",
    "b = 3\n",
    "K = 1/2 * a**(1/b) * b * beta * r**((2*b-2)/b)\n",
    "\n",
    "display(ra, r2, r4, simplify(rn), Ku, K, K2)"
   ]
  },
  {
   "cell_type": "markdown",
   "metadata": {},
   "source": [
    "#### 2.9 Full Richardson regime"
   ]
  },
  {
   "cell_type": "code",
   "execution_count": null,
   "metadata": {},
   "outputs": [],
   "source": [
    "from sympy import besseli\n",
    "\n",
    "# full K^-5/3 PDF (no analytical solution from sympy)\n",
    "\n",
    "fst = 3.0 / (4.0 * pi * beta * t * (r0 * r)**(2.0/3.0))\n",
    "scd = exp(-9.0*(r0**(2.0/3.0) + r**(2.0/3.0))/(4.0 * beta * t))\n",
    "tmp = 9.0 * ((r0 * r)**(1.0/3.0)) / (2.0 * beta * t)\n",
    "trd = besseli(2, tmp)# * exp(-tmp)\n",
    "\n",
    "p = fst * scd * trd\n",
    "\n",
    "print('ok1')\n",
    "ra = 2 * pi * integrate(p * r   , (r, 0, oo))\n",
    "print('ok2')\n",
    "r2 = 2 * pi * integrate(p * r**3, (r, 0, oo))\n",
    "print('ok3')\n",
    "r4 = 2 * pi * integrate(p * r**5, (r, 0, oo))\n",
    "print('ok4')\n",
    "Ku = r4 / r2**2.0\n",
    "K2 = diff(r2, t) / 2\n",
    "\n",
    "display(ra, r2, r4, rn, Ku, K2)"
   ]
  },
  {
   "cell_type": "markdown",
   "metadata": {},
   "source": [
    "#### 2.10 Full Lundgren regime"
   ]
  },
  {
   "cell_type": "code",
   "execution_count": 6,
   "metadata": {},
   "outputs": [
    {
     "name": "stdout",
     "output_type": "stream",
     "text": [
      "ok1\n",
      "ok2\n",
      "ok3\n"
     ]
    },
    {
     "data": {
      "text/latex": [
       "$\\displaystyle 2 \\pi \\left(\\frac{1}{4 \\pi} + \\frac{1}{4 \\pi^{1.0}}\\right)$"
      ],
      "text/plain": [
       "     /         -1.0\\\n",
       "     | 1     pi    |\n",
       "2*pi*|---- + ------|\n",
       "     \\4*pi     4   /"
      ]
     },
     "metadata": {},
     "output_type": "display_data"
    },
    {
     "data": {
      "text/latex": [
       "$\\displaystyle \\frac{e^{- t} \\int\\limits_{0}^{\\infty} r^{2} e^{- \\frac{\\log{\\left(r \\right)}^{2}}{4 t}}\\, dr}{2 \\pi^{0.5} t^{0.5}}$"
      ],
      "text/plain": [
       "                  oo                 \n",
       "                   /                 \n",
       "                  |                  \n",
       "                  |          2       \n",
       "                  |      -log (r)    \n",
       "                  |      ---------   \n",
       "  -0.5  -0.5  -t  |   2     4*t      \n",
       "pi    *t    *e  * |  r *e          dr\n",
       "                  |                  \n",
       "                 /                   \n",
       "                 0                   \n",
       "-------------------------------------\n",
       "                  2                  "
      ]
     },
     "metadata": {},
     "output_type": "display_data"
    },
    {
     "data": {
      "text/latex": [
       "$\\displaystyle \\frac{e^{- t} \\int\\limits_{0}^{\\infty} r^{4} e^{- \\frac{\\log{\\left(r \\right)}^{2}}{4 t}}\\, dr}{2 \\pi^{0.5} t^{0.5}}$"
      ],
      "text/plain": [
       "                  oo                 \n",
       "                   /                 \n",
       "                  |                  \n",
       "                  |          2       \n",
       "                  |      -log (r)    \n",
       "                  |      ---------   \n",
       "  -0.5  -0.5  -t  |   4     4*t      \n",
       "pi    *t    *e  * |  r *e          dr\n",
       "                  |                  \n",
       "                 /                   \n",
       "                 0                   \n",
       "-------------------------------------\n",
       "                  2                  "
      ]
     },
     "metadata": {},
     "output_type": "display_data"
    },
    {
     "data": {
      "text/latex": [
       "$\\displaystyle \\frac{2.0 \\pi^{0.5} t^{0.5} e^{1.0 t} \\int\\limits_{0}^{\\infty} r^{4} e^{- \\frac{\\log{\\left(r \\right)}^{2}}{4 t}}\\, dr}{\\int\\limits_{0}^{\\infty} r^{2} e^{- \\frac{\\log{\\left(r \\right)}^{2}}{4 t}}\\, dr^{2.0}}$"
      ],
      "text/plain": [
       "                                            -2.0                     \n",
       "                      / oo                 \\      oo                 \n",
       "                      |  /                 |       /                 \n",
       "                      | |                  |      |                  \n",
       "                      | |          2       |      |          2       \n",
       "                      | |      -log (r)    |      |      -log (r)    \n",
       "                      | |      ---------   |      |      ---------   \n",
       "      0.5  0.5  1.0*t | |   2     4*t      |      |   4     4*t      \n",
       "2.0*pi   *t   *e     *| |  r *e          dr|    * |  r *e          dr\n",
       "                      | |                  |      |                  \n",
       "                      |/                   |     /                   \n",
       "                      \\0                   /     0                   "
      ]
     },
     "metadata": {},
     "output_type": "display_data"
    }
   ],
   "source": [
    "# This is not available for sympy, but we can change variable to simplify the integration\n",
    "p = 1 / (4 * pi**1.5 * (t)**0.5) * exp(-(log(r) + 2*t)**2 / (4*t))\n",
    "\n",
    "ra = 2 * pi * integrate(p * r   , (r, 0, oo))\n",
    "print('ok1')\n",
    "r2 = 2 * pi * integrate(p * r**3, (r, 0, oo))\n",
    "print('ok2')\n",
    "r4 = 2 * pi * integrate(p * r**5, (r, 0, oo))\n",
    "print('ok3')\n",
    "Ku = r4 / r2**2.0\n",
    "K2 = diff(r2, t) / 2\n",
    "\n",
    "display(ra, r2, r4, Ku, K2)"
   ]
  },
  {
   "cell_type": "code",
   "execution_count": 8,
   "metadata": {},
   "outputs": [
    {
     "data": {
      "text/latex": [
       "$\\displaystyle 1$"
      ],
      "text/plain": [
       "1"
      ]
     },
     "metadata": {},
     "output_type": "display_data"
    },
    {
     "data": {
      "text/latex": [
       "$\\displaystyle r_{0}^{2} e^{\\frac{8 t}{T}}$"
      ],
      "text/plain": [
       "     8*t\n",
       "     ---\n",
       "  2   T \n",
       "r0 *e   "
      ]
     },
     "metadata": {},
     "output_type": "display_data"
    },
    {
     "data": {
      "text/latex": [
       "$\\displaystyle r_{0}^{4} e^{\\frac{24 t}{T}}$"
      ],
      "text/plain": [
       "     24*t\n",
       "     ----\n",
       "  4   T  \n",
       "r0 *e    "
      ]
     },
     "metadata": {},
     "output_type": "display_data"
    },
    {
     "data": {
      "text/latex": [
       "$\\displaystyle 1.0 e^{\\frac{8.0 t}{T}}$"
      ],
      "text/plain": [
       "     8.0*t\n",
       "     -----\n",
       "       T  \n",
       "1.0*e     "
      ]
     },
     "metadata": {},
     "output_type": "display_data"
    },
    {
     "data": {
      "text/latex": [
       "$\\displaystyle \\frac{4 r_{0}^{2} e^{\\frac{8 t}{T}}}{T}$"
      ],
      "text/plain": [
       "       8*t\n",
       "       ---\n",
       "    2   T \n",
       "4*r0 *e   \n",
       "----------\n",
       "    T     "
      ]
     },
     "metadata": {},
     "output_type": "display_data"
    }
   ],
   "source": [
    "# change variable x = ln(r/r0), r = r_0 exp(x), dr = r_0 exp(x) dx\n",
    "p = 1 / (4 * pi**1.5 * r0**2 * (t/T)**0.5) * exp(-(x + 2*(t/T))**2 / (4*(t/T)))\n",
    "\n",
    "ra = 2 * pi * integrate(p * (r0*exp(x))**2, (x, -oo, oo))\n",
    "r2 = 2 * pi * integrate(p * (r0*exp(x))**4, (x, -oo, oo))\n",
    "r4 = 2 * pi * integrate(p * (r0*exp(x))**6, (x, -oo, oo))\n",
    "Ku = r4 / r2**2.0\n",
    "K2 = diff(simplify(r2), t) / 2\n",
    "\n",
    "display(simplify(ra), simplify(r2), simplify(r4), simplify(Ku), K2)"
   ]
  }
 ],
 "metadata": {
  "kernelspec": {
   "display_name": "Python 3 (ipykernel)",
   "language": "python",
   "name": "python3"
  },
  "language_info": {
   "codemirror_mode": {
    "name": "ipython",
    "version": 3
   },
   "file_extension": ".py",
   "mimetype": "text/x-python",
   "name": "python",
   "nbconvert_exporter": "python",
   "pygments_lexer": "ipython3",
   "version": "3.10.15"
  },
  "vscode": {
   "interpreter": {
    "hash": "67bfac4f4aefe1c16f1836a62d55b6e6baa7aba1ac5ce70e93ee8e90eb4f073a"
   }
  }
 },
 "nbformat": 4,
 "nbformat_minor": 4
}
