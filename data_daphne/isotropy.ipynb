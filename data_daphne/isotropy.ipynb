{
 "cells": [
  {
   "cell_type": "code",
   "execution_count": null,
   "id": "8a9341ff",
   "metadata": {},
   "outputs": [],
   "source": [
    "import numpy as np\n",
    "import xarray as xr\n",
    "import sys\n",
    "sys.path.append('../')\n",
    "from xdispersion import RelativeDispersion\n",
    "import matplotlib.cm as cm\n",
    "from matplotlib import cm\n",
    "import matplotlib.pyplot as plt\n",
    "import pandas as pd\n",
    "\n",
    "save=False  #save figures or not\n",
    "namedata = \"ExpN\"\n",
    "drifters = xr.open_dataset('./ExpN/fort.1001.np4000nt6000.nc')\n",
    "#drifters = xr.open_dataset('./QGdaphne-E12e-8/fort.2001.np4000nt3000.nc')\n",
    "\n",
    "\n",
    "rd = RelativeDispersion(drifters, ragged=False, ID='tracer',\n",
    "                        xpos='x', uvel='ux', time='time',\n",
    "                        ypos='y', vvel='uy', coord='polar')\n",
    "\n",
    "pairs = rd.get_all_pairs()\n",
    "origin_pairs = rd.get_original_pairs(pairs, r0=[0.005, 0.01])\n",
    "\n",
    "rx, ry, rxy, r, rpb = rd.separation_measures(origin_pairs) # separations of different components\n",
    "#du, dv, dul, dut, vmi, vmj, uv = rd.velocity_measures(origin_pairs) # velocities of different components\n"
   ]
  },
  {
   "cell_type": "code",
   "execution_count": null,
   "id": "58762d5e",
   "metadata": {},
   "outputs": [],
   "source": [
    "from xdispersion import gen_rbins, rel_disp, rel_diff, kurtosis, cumul_inv_sep_time, famp_growth_rate, fsize_lyap_exp\n",
    "\n",
    "r2   = rel_disp(r, order=2, mean_at='const-t') #order=2 so 2nd moment of separation\n",
    "r2x   = rel_disp(rx, order=2, mean_at='const-t') #radial\n",
    "r2y   = rel_disp(ry, order=2, mean_at='const-t') #zonal (arclength)\n",
    "\n",
    "r2yb = r2-r2x #estimate of zonal\n"
   ]
  },
  {
   "cell_type": "code",
   "execution_count": null,
   "id": "ab381dd6",
   "metadata": {},
   "outputs": [],
   "source": [
    "fig, axes = plt.subplots(1, 3, figsize=(10, 3))  # (rows, cols)\n",
    "ax = axes[0]  # pick the first subplot (dispersion)\n",
    "#r2.plot.line(xscale='log', yscale='log', figsize=(6,3.5), marker='o', color='b', markersize=2, lw=0.5)\n",
    "ax.scatter(r2.rtime,r2.values,marker='x',s=5,color='b',label=\"full dispersion\")\n",
    "ax.scatter(r2x.rtime,r2x.values,marker='x',s=5,color='y',label=\"radial dispersion\")\n",
    "ax.scatter(r2y.rtime,r2y.values,marker='x',s=5,color='r',label=\"radial dispersion\")\n",
    "ax.scatter(r2yb.rtime,r2yb.values,marker='x',s=5,color='r',label=\"radial dispersion\")\n",
    "ax.set_ylim(1e-5,max(r2.values)*100)\n",
    "ax.set_xscale('log')\n",
    "ax.set_yscale('log')\n",
    "ax.set_xlabel(r\"$t$ (s)\")\n",
    "ax.set_ylabel(r\"$\\langle r^2 \\rangle$ (m$^2$)\")\n",
    "ax.set_title(\"Relative Dispersion\")\n",
    "\n",
    "axes[1].scatter(np.sqrt(r2),r2y/r2x,s=5,color='b')\n",
    "axes[1].scatter(np.sqrt(r2),r2yb/r2x,s=5,color='y')\n",
    "axes[1].set_ylabel(r\"$\\langle r_z^2 \\rangle / \\langle r_r^2 \\rangle$\")\n",
    "axes[1].set_xlabel(r\"$r_{\\rm rms}$ (m)\")\n",
    "axes[1].set_xscale('log')\n",
    "#axes[1].set_yscale('log')\n",
    "\n",
    "axes[2].scatter(r2.rtime,r2y/r2x,s=5,color='b')\n",
    "axes[2].scatter(r2.rtime,r2yb/r2x,s=5,color='y')\n",
    "axes[2].set_ylabel(r\"$\\langle r_z^2 \\rangle / \\langle r_r^2 \\rangle$\")\n",
    "axes[2].set_xlabel(r\"$t$ (s)\")\n",
    "axes[2].set_xscale('log')\n",
    "#axes[2].set_yscale('log')\n",
    "\n",
    "plt.tight_layout(rect=[0, 0, 1, 0.93])  # leave space at top for labels\n",
    "plt.show()\n",
    "\n"
   ]
  },
  {
   "cell_type": "code",
   "execution_count": null,
   "id": "9f9de056",
   "metadata": {},
   "outputs": [],
   "source": []
  }
 ],
 "metadata": {
  "kernelspec": {
   "display_name": "xdispersion",
   "language": "python",
   "name": "python3"
  },
  "language_info": {
   "codemirror_mode": {
    "name": "ipython",
    "version": 3
   },
   "file_extension": ".py",
   "mimetype": "text/x-python",
   "name": "python",
   "nbconvert_exporter": "python",
   "pygments_lexer": "ipython3",
   "version": "3.13.5"
  }
 },
 "nbformat": 4,
 "nbformat_minor": 5
}
