{
 "cells": [
  {
   "cell_type": "markdown",
   "id": "fa8b6934",
   "metadata": {},
   "source": [
    "# Read lagrangian trajectories and compute basic statistics"
   ]
  },
  {
   "cell_type": "markdown",
   "id": "554d3eba",
   "metadata": {},
   "source": []
  },
  {
   "cell_type": "code",
   "execution_count": null,
   "id": "700a44b2",
   "metadata": {},
   "outputs": [],
   "source": []
  }
 ],
 "metadata": {
  "language_info": {
   "name": "python"
  }
 },
 "nbformat": 4,
 "nbformat_minor": 5
}
