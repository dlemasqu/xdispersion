{
 "cells": [
  {
   "cell_type": "markdown",
   "id": "fa8b6934",
   "metadata": {},
   "source": [
    "# Read lagrangian trajectories and compute basic statistics"
   ]
  },
  {
   "cell_type": "markdown",
   "id": "554d3eba",
   "metadata": {},
   "source": []
  },
  {
   "cell_type": "code",
   "execution_count": 27,
   "id": "700a44b2",
   "metadata": {},
   "outputs": [
    {
     "name": "stdout",
     "output_type": "stream",
     "text": [
      "<xarray.Dataset> Size: 6MB\n",
      "Dimensions:   (particle: 1000, time: 201)\n",
      "Coordinates:\n",
      "  * particle  (particle) int64 8kB 0 1 2 3 4 5 6 ... 993 994 995 996 997 998 999\n",
      "  * time      (time) int64 2kB 0 1 2 3 4 5 6 7 ... 194 195 196 197 198 199 200\n",
      "Data variables:\n",
      "    ID        (particle) int32 4kB ...\n",
      "    x         (particle, time) float64 2MB ...\n",
      "    y         (particle, time) float64 2MB ...\n",
      "    ux        (particle, time) float64 2MB ...\n",
      "    uy        (particle, time) float64 2MB ...\n"
     ]
    }
   ],
   "source": [
    "import numpy as np\n",
    "import xarray as xr\n",
    "import sys\n",
    "sys.path.append('../')\n",
    "from xdispersion import RelativeDispersion\n",
    "\n",
    "drifters = xr.open_dataset('fort.1003.nc')\n",
    "\n",
    "print(drifters)"
   ]
  },
  {
   "cell_type": "markdown",
   "id": "643d407f",
   "metadata": {},
   "source": [
    "Now we initialize a `RelativeDispersion` class, with the `drifters` dataset and associated names for position and velocity. "
   ]
  },
  {
   "cell_type": "code",
   "execution_count": 28,
   "id": "5075553a",
   "metadata": {},
   "outputs": [
    {
     "name": "stdout",
     "output_type": "stream",
     "text": [
      " RelativeDispersion class with:\n",
      "   xpos: x \n",
      "   ypos: y \n",
      "   uvel: ux \n",
      "   vvel: uy \n",
      "   time: time \n",
      "  coord: cartesian\n",
      "  delta:  1.000\n",
      "maxtlen: -1\n",
      "\n"
     ]
    },
    {
     "ename": "ValueError",
     "evalue": "Dimensions {'ID'} do not exist. Expected one or more of FrozenMappingWarningOnValuesAccess({'particle': 1000, 'time': 201})",
     "output_type": "error",
     "traceback": [
      "\u001b[31m---------------------------------------------------------------------------\u001b[39m",
      "\u001b[31mValueError\u001b[39m                                Traceback (most recent call last)",
      "\u001b[36mCell\u001b[39m\u001b[36m \u001b[39m\u001b[32mIn[28]\u001b[39m\u001b[32m, line 7\u001b[39m\n\u001b[32m      1\u001b[39m rd = RelativeDispersion(drifters, ragged=\u001b[38;5;28;01mFalse\u001b[39;00m, ID=\u001b[33m'\u001b[39m\u001b[33mparticle\u001b[39m\u001b[33m'\u001b[39m,\n\u001b[32m      2\u001b[39m                         xpos=\u001b[33m'\u001b[39m\u001b[33mx\u001b[39m\u001b[33m'\u001b[39m, uvel=\u001b[33m'\u001b[39m\u001b[33mux\u001b[39m\u001b[33m'\u001b[39m, time=\u001b[33m'\u001b[39m\u001b[33mtime\u001b[39m\u001b[33m'\u001b[39m,\n\u001b[32m      3\u001b[39m                         ypos=\u001b[33m'\u001b[39m\u001b[33my\u001b[39m\u001b[33m'\u001b[39m, vvel=\u001b[33m'\u001b[39m\u001b[33muy\u001b[39m\u001b[33m'\u001b[39m, coord=\u001b[33m'\u001b[39m\u001b[33mcartesian\u001b[39m\u001b[33m'\u001b[39m)\n\u001b[32m      5\u001b[39m \u001b[38;5;28mprint\u001b[39m(rd)\n\u001b[32m----> \u001b[39m\u001b[32m7\u001b[39m pairs = \u001b[43mrd\u001b[49m\u001b[43m.\u001b[49m\u001b[43mget_all_pairs\u001b[49m\u001b[43m(\u001b[49m\u001b[43m)\u001b[49m\n\u001b[32m      8\u001b[39m pairs\n",
      "\u001b[36mFile \u001b[39m\u001b[32m~/Documents/GitHub/xdispersion/data_daphne/../xdispersion/core.py:157\u001b[39m, in \u001b[36mRelativeDispersion.get_all_pairs\u001b[39m\u001b[34m(self)\u001b[39m\n\u001b[32m    151\u001b[39m no_pair = \u001b[38;5;28mlen\u001b[39m(dset[\u001b[38;5;28mself\u001b[39m.ID])\n\u001b[32m    152\u001b[39m pair_idx = xr.DataArray(np.array(\u001b[38;5;28mlist\u001b[39m(itertools.combinations(\u001b[38;5;28mrange\u001b[39m(no_pair), \u001b[32m2\u001b[39m))),\n\u001b[32m    153\u001b[39m                         dims=(\u001b[33m\"\u001b[39m\u001b[33mpair\u001b[39m\u001b[33m\"\u001b[39m, \u001b[33m\"\u001b[39m\u001b[33mparticle\u001b[39m\u001b[33m\"\u001b[39m), name=\u001b[33m'\u001b[39m\u001b[33mpID\u001b[39m\u001b[33m'\u001b[39m,\n\u001b[32m    154\u001b[39m                         coords={\u001b[33m'\u001b[39m\u001b[33mpair\u001b[39m\u001b[33m'\u001b[39m:np.arange(no_pair*(no_pair-\u001b[32m1\u001b[39m)/\u001b[32m2\u001b[39m, dtype=\u001b[33m'\u001b[39m\u001b[33mint32\u001b[39m\u001b[33m'\u001b[39m),\n\u001b[32m    155\u001b[39m                                 \u001b[33m'\u001b[39m\u001b[33mparticle\u001b[39m\u001b[33m'\u001b[39m:np.array([\u001b[32m0\u001b[39m,\u001b[32m1\u001b[39m], dtype=\u001b[33m'\u001b[39m\u001b[33mint32\u001b[39m\u001b[33m'\u001b[39m)})\n\u001b[32m--> \u001b[39m\u001b[32m157\u001b[39m xpos0 = \u001b[43mdset\u001b[49m\u001b[43m[\u001b[49m\u001b[38;5;28;43mself\u001b[39;49m\u001b[43m.\u001b[49m\u001b[43mxpos\u001b[49m\u001b[43m]\u001b[49m\u001b[43m.\u001b[49m\u001b[43misel\u001b[49m\u001b[43m(\u001b[49m\u001b[43m{\u001b[49m\u001b[33;43m'\u001b[39;49m\u001b[33;43mtime\u001b[39;49m\u001b[33;43m'\u001b[39;49m\u001b[43m:\u001b[49m\u001b[32;43m0\u001b[39;49m\u001b[43m,\u001b[49m\u001b[43m \u001b[49m\u001b[33;43m'\u001b[39;49m\u001b[33;43mID\u001b[39;49m\u001b[33;43m'\u001b[39;49m\u001b[43m:\u001b[49m\u001b[43mpair_idx\u001b[49m\u001b[43m}\u001b[49m\u001b[43m)\u001b[49m.drop_vars([\u001b[33m'\u001b[39m\u001b[33mtime\u001b[39m\u001b[33m'\u001b[39m,\u001b[33m'\u001b[39m\u001b[33mID\u001b[39m\u001b[33m'\u001b[39m]).rename(\u001b[33m'\u001b[39m\u001b[33mxpos0\u001b[39m\u001b[33m'\u001b[39m)\n\u001b[32m    158\u001b[39m ypos0 = dset[\u001b[38;5;28mself\u001b[39m.ypos].isel({\u001b[33m'\u001b[39m\u001b[33mtime\u001b[39m\u001b[33m'\u001b[39m:\u001b[32m0\u001b[39m, \u001b[33m'\u001b[39m\u001b[33mID\u001b[39m\u001b[33m'\u001b[39m:pair_idx}).drop_vars([\u001b[33m'\u001b[39m\u001b[33mtime\u001b[39m\u001b[33m'\u001b[39m,\u001b[33m'\u001b[39m\u001b[33mID\u001b[39m\u001b[33m'\u001b[39m]).rename(\u001b[33m'\u001b[39m\u001b[33mypos0\u001b[39m\u001b[33m'\u001b[39m)\n\u001b[32m    159\u001b[39m pID   = dset[\u001b[38;5;28mself\u001b[39m.ID].isel({\u001b[33m'\u001b[39m\u001b[33mID\u001b[39m\u001b[33m'\u001b[39m:pair_idx}).drop_vars(\u001b[33m'\u001b[39m\u001b[33mID\u001b[39m\u001b[33m'\u001b[39m).rename(\u001b[33m'\u001b[39m\u001b[33mpID\u001b[39m\u001b[33m'\u001b[39m)\n",
      "\u001b[36mFile \u001b[39m\u001b[32m~/miniforge3/envs/xdispersion/lib/python3.13/site-packages/xarray/core/dataarray.py:1521\u001b[39m, in \u001b[36mDataArray.isel\u001b[39m\u001b[34m(self, indexers, drop, missing_dims, **indexers_kwargs)\u001b[39m\n\u001b[32m   1518\u001b[39m indexers = either_dict_or_kwargs(indexers, indexers_kwargs, \u001b[33m\"\u001b[39m\u001b[33misel\u001b[39m\u001b[33m\"\u001b[39m)\n\u001b[32m   1520\u001b[39m \u001b[38;5;28;01mif\u001b[39;00m \u001b[38;5;28many\u001b[39m(is_fancy_indexer(idx) \u001b[38;5;28;01mfor\u001b[39;00m idx \u001b[38;5;129;01min\u001b[39;00m indexers.values()):\n\u001b[32m-> \u001b[39m\u001b[32m1521\u001b[39m     ds = \u001b[38;5;28;43mself\u001b[39;49m\u001b[43m.\u001b[49m\u001b[43m_to_temp_dataset\u001b[49m\u001b[43m(\u001b[49m\u001b[43m)\u001b[49m\u001b[43m.\u001b[49m\u001b[43m_isel_fancy\u001b[49m\u001b[43m(\u001b[49m\n\u001b[32m   1522\u001b[39m \u001b[43m        \u001b[49m\u001b[43mindexers\u001b[49m\u001b[43m,\u001b[49m\u001b[43m \u001b[49m\u001b[43mdrop\u001b[49m\u001b[43m=\u001b[49m\u001b[43mdrop\u001b[49m\u001b[43m,\u001b[49m\u001b[43m \u001b[49m\u001b[43mmissing_dims\u001b[49m\u001b[43m=\u001b[49m\u001b[43mmissing_dims\u001b[49m\n\u001b[32m   1523\u001b[39m \u001b[43m    \u001b[49m\u001b[43m)\u001b[49m\n\u001b[32m   1524\u001b[39m     \u001b[38;5;28;01mreturn\u001b[39;00m \u001b[38;5;28mself\u001b[39m._from_temp_dataset(ds)\n\u001b[32m   1526\u001b[39m \u001b[38;5;66;03m# Much faster algorithm for when all indexers are ints, slices, one-dimensional\u001b[39;00m\n\u001b[32m   1527\u001b[39m \u001b[38;5;66;03m# lists, or zero or one-dimensional np.ndarray's\u001b[39;00m\n",
      "\u001b[36mFile \u001b[39m\u001b[32m~/miniforge3/envs/xdispersion/lib/python3.13/site-packages/xarray/core/dataset.py:2801\u001b[39m, in \u001b[36mDataset._isel_fancy\u001b[39m\u001b[34m(self, indexers, drop, missing_dims)\u001b[39m\n\u001b[32m   2794\u001b[39m \u001b[38;5;28;01mdef\u001b[39;00m\u001b[38;5;250m \u001b[39m\u001b[34m_isel_fancy\u001b[39m(\n\u001b[32m   2795\u001b[39m     \u001b[38;5;28mself\u001b[39m,\n\u001b[32m   2796\u001b[39m     indexers: Mapping[Any, Any],\n\u001b[32m   (...)\u001b[39m\u001b[32m   2799\u001b[39m     missing_dims: ErrorOptionsWithWarn = \u001b[33m\"\u001b[39m\u001b[33mraise\u001b[39m\u001b[33m\"\u001b[39m,\n\u001b[32m   2800\u001b[39m ) -> Self:\n\u001b[32m-> \u001b[39m\u001b[32m2801\u001b[39m     valid_indexers = \u001b[38;5;28;43mdict\u001b[39;49m\u001b[43m(\u001b[49m\u001b[38;5;28;43mself\u001b[39;49m\u001b[43m.\u001b[49m\u001b[43m_validate_indexers\u001b[49m\u001b[43m(\u001b[49m\u001b[43mindexers\u001b[49m\u001b[43m,\u001b[49m\u001b[43m \u001b[49m\u001b[43mmissing_dims\u001b[49m\u001b[43m)\u001b[49m\u001b[43m)\u001b[49m\n\u001b[32m   2803\u001b[39m     variables: \u001b[38;5;28mdict\u001b[39m[Hashable, Variable] = {}\n\u001b[32m   2804\u001b[39m     indexes, index_variables = isel_indexes(\u001b[38;5;28mself\u001b[39m.xindexes, valid_indexers)\n",
      "\u001b[36mFile \u001b[39m\u001b[32m~/miniforge3/envs/xdispersion/lib/python3.13/site-packages/xarray/core/dataset.py:2555\u001b[39m, in \u001b[36mDataset._validate_indexers\u001b[39m\u001b[34m(self, indexers, missing_dims)\u001b[39m\n\u001b[32m   2547\u001b[39m \u001b[38;5;250m\u001b[39m\u001b[33;03m\"\"\"Here we make sure\u001b[39;00m\n\u001b[32m   2548\u001b[39m \u001b[33;03m+ indexer has a valid keys\u001b[39;00m\n\u001b[32m   2549\u001b[39m \u001b[33;03m+ indexer is in a valid data type\u001b[39;00m\n\u001b[32m   2550\u001b[39m \u001b[33;03m+ string indexers are cast to the appropriate date type if the\u001b[39;00m\n\u001b[32m   2551\u001b[39m \u001b[33;03m  associated index is a DatetimeIndex or CFTimeIndex\u001b[39;00m\n\u001b[32m   2552\u001b[39m \u001b[33;03m\"\"\"\u001b[39;00m\n\u001b[32m   2553\u001b[39m \u001b[38;5;28;01mfrom\u001b[39;00m\u001b[38;5;250m \u001b[39m\u001b[34;01mxarray\u001b[39;00m\u001b[34;01m.\u001b[39;00m\u001b[34;01mcore\u001b[39;00m\u001b[34;01m.\u001b[39;00m\u001b[34;01mdataarray\u001b[39;00m\u001b[38;5;250m \u001b[39m\u001b[38;5;28;01mimport\u001b[39;00m DataArray\n\u001b[32m-> \u001b[39m\u001b[32m2555\u001b[39m indexers = \u001b[43mdrop_dims_from_indexers\u001b[49m\u001b[43m(\u001b[49m\u001b[43mindexers\u001b[49m\u001b[43m,\u001b[49m\u001b[43m \u001b[49m\u001b[38;5;28;43mself\u001b[39;49m\u001b[43m.\u001b[49m\u001b[43mdims\u001b[49m\u001b[43m,\u001b[49m\u001b[43m \u001b[49m\u001b[43mmissing_dims\u001b[49m\u001b[43m)\u001b[49m\n\u001b[32m   2557\u001b[39m \u001b[38;5;66;03m# all indexers should be int, slice, np.ndarrays, or Variable\u001b[39;00m\n\u001b[32m   2558\u001b[39m \u001b[38;5;28;01mfor\u001b[39;00m k, v \u001b[38;5;129;01min\u001b[39;00m indexers.items():\n",
      "\u001b[36mFile \u001b[39m\u001b[32m~/miniforge3/envs/xdispersion/lib/python3.13/site-packages/xarray/core/utils.py:853\u001b[39m, in \u001b[36mdrop_dims_from_indexers\u001b[39m\u001b[34m(indexers, dims, missing_dims)\u001b[39m\n\u001b[32m    851\u001b[39m     invalid = indexers.keys() - \u001b[38;5;28mset\u001b[39m(dims)\n\u001b[32m    852\u001b[39m     \u001b[38;5;28;01mif\u001b[39;00m invalid:\n\u001b[32m--> \u001b[39m\u001b[32m853\u001b[39m         \u001b[38;5;28;01mraise\u001b[39;00m \u001b[38;5;167;01mValueError\u001b[39;00m(\n\u001b[32m    854\u001b[39m             \u001b[33mf\u001b[39m\u001b[33m\"\u001b[39m\u001b[33mDimensions \u001b[39m\u001b[38;5;132;01m{\u001b[39;00minvalid\u001b[38;5;132;01m}\u001b[39;00m\u001b[33m do not exist. Expected one or more of \u001b[39m\u001b[38;5;132;01m{\u001b[39;00mdims\u001b[38;5;132;01m}\u001b[39;00m\u001b[33m\"\u001b[39m\n\u001b[32m    855\u001b[39m         )\n\u001b[32m    857\u001b[39m     \u001b[38;5;28;01mreturn\u001b[39;00m indexers\n\u001b[32m    859\u001b[39m \u001b[38;5;28;01melif\u001b[39;00m missing_dims == \u001b[33m\"\u001b[39m\u001b[33mwarn\u001b[39m\u001b[33m\"\u001b[39m:\n\u001b[32m    860\u001b[39m     \u001b[38;5;66;03m# don't modify input\u001b[39;00m\n",
      "\u001b[31mValueError\u001b[39m: Dimensions {'ID'} do not exist. Expected one or more of FrozenMappingWarningOnValuesAccess({'particle': 1000, 'time': 201})"
     ]
    }
   ],
   "source": [
    "rd = RelativeDispersion(drifters, ragged=False, ID='particle',\n",
    "                        xpos='x', uvel='ux', time='time',\n",
    "                        ypos='y', vvel='uy', coord='cartesian')\n",
    "\n",
    "print(rd)\n",
    "\n",
    "pairs = rd.get_all_pairs()\n",
    "pairs"
   ]
  },
  {
   "cell_type": "code",
   "execution_count": null,
   "id": "4f49609d",
   "metadata": {},
   "outputs": [],
   "source": []
  }
 ],
 "metadata": {
  "kernelspec": {
   "display_name": "xdispersion",
   "language": "python",
   "name": "python3"
  },
  "language_info": {
   "codemirror_mode": {
    "name": "ipython",
    "version": 3
   },
   "file_extension": ".py",
   "mimetype": "text/x-python",
   "name": "python",
   "nbconvert_exporter": "python",
   "pygments_lexer": "ipython3",
   "version": "3.13.5"
  }
 },
 "nbformat": 4,
 "nbformat_minor": 5
}
